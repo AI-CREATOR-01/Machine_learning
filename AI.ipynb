{
 "cells": [
  {
   "cell_type": "markdown",
   "id": "2ba02388",
   "metadata": {},
   "source": [
    "WHAT IS AN APPLICATION"
   ]
  },
  {
   "cell_type": "markdown",
   "id": "ded2bf07",
   "metadata": {},
   "source": [
    "An application (often abbreviated as \"app\") is a software program designed to perform specific tasks on a computer or mobile device. It is a type of software that runs independently and can be installed and run on various operating systems, such as Windows, Mac, Android, or iOS.\n",
    "\n",
    "Applications can serve a wide range of purposes, including entertainment, productivity, education, communication, social networking, and more. Here are some examples of applications:"
   ]
  },
  {
   "cell_type": "markdown",
   "id": "c088c04c",
   "metadata": {},
   "source": [
    "WHAT IS A SOFTWARE PROGRAM"
   ]
  },
  {
   "cell_type": "markdown",
   "id": "5a501205",
   "metadata": {},
   "source": [
    "A software program is a set of instructions or code that tells a computer or other electronic device what to do. It is a collection of computer programs and data that are designed to perform specific tasks or functions on a computer. A software program can be created for various purposes, including business, education, entertainment, and communication. Here are some examples of software programs:"
   ]
  },
  {
   "cell_type": "markdown",
   "id": "78a0591e",
   "metadata": {},
   "source": [
    "WHAT DOES MEAN TO STATISTICAL TOOL"
   ]
  },
  {
   "cell_type": "markdown",
   "id": "7917b070",
   "metadata": {},
   "source": [
    "A statistics tool is a software or application that helps in performing various statistical analyses on data. These tools enable researchers to explore data, detect patterns, calculate descriptive statistics such as means, medians, and modes, as well as inferential statistics such as hypothesis testing, confidence intervals, and regression analysis.\n",
    "\n",
    "Here are some examples:\n",
    "1.python\n",
    "2.R\n",
    "3.MS Exel\n",
    "    "
   ]
  },
  {
   "cell_type": "markdown",
   "id": "aff553fc",
   "metadata": {},
   "source": [
    "# AI VS ML VS DL VS DS"
   ]
  },
  {
   "cell_type": "markdown",
   "id": "2521403e",
   "metadata": {},
   "source": [
    "AI(artificial intelligence):\n",
    "    \n",
    "Artificial Intelligence is an smart application or machine(a type of device(like alexa) or system) which can perform its own task without human intervention.\n",
    "\n",
    "mtlb overall AI ke final product(application, a type of device, system, machine) hota hai\n",
    "\n",
    "\n",
    "ML(machine learning):\n",
    "\n",
    "Machine learning is a subfield of artificial intelligence (AI) that involves the development of algorithms and provide statistical tools/models that enable computer systems/AI to learn from data.\n",
    "\n",
    "it is a process of teaching machines to recognize patterns in data and make predictions or decisions based on that data.\n",
    "\n",
    "In other words, it is a process of training algorithms to recognize patterns/relationship in data and make predictions or decisions based on that data.\n",
    "\n",
    "DL(deep learning):\n",
    "\n",
    "Deep learning is a subset of ML which being used by an AI to mimic the human brain.(mtlb jaise ek insaan sochta hai aur jaise activity krta overall how an AI can copy behavior of human being).\n",
    "\n",
    "DS(data sience):\n",
    "\n",
    "Data science is a multidisciplinary field that involves the extraction of knowledge and insights from various forms of data.\n",
    "\n",
    "Multidisciplinary refers to the integration of knowledge, methods, and techniques from multiple disciplines or fields of study to address a particular problem or phenomenon."
   ]
  },
  {
   "cell_type": "markdown",
   "id": "33495e47",
   "metadata": {},
   "source": [
    "# Types of machine learning"
   ]
  },
  {
   "cell_type": "markdown",
   "id": "8908e3cf",
   "metadata": {},
   "source": [
    "# 1.Supervised machine learning"
   ]
  },
  {
   "cell_type": "markdown",
   "id": "c84263e3",
   "metadata": {},
   "source": [
    "Supervised machine learning is a type of machine learning in which an algorithm is trained on a labeled dataset, meaning that each input has a corresponding output. The algorithm learns to predict the output for new inputs based on the patterns it discovers in the training data.\n",
    "\n",
    "mtlb is case me hme pta hota hai ki inputs kya hai aur us inputs ke corresponding outputs kya milne waale hai\n",
    "\n",
    "example:\n",
    "\n",
    "no of hours play       no fo hours study      pass/fail status\n",
    "      10                      5                    fail\n",
    "      8                       6                    fail\n",
    "      2                       10                   pass/ho skta hai yha pr bhi fail ho jaaye\n",
    "      \n",
    "so basically yha pr hm ek aisa algorithm taiyar krte hai jisko pata hota hai ki inputs kya hai aur iske corresponding kya output predict krna hai matlab phle se hi predetermined outputs corresponding to each inputs of datasets."
   ]
  },
  {
   "cell_type": "markdown",
   "id": "de26a2dd",
   "metadata": {},
   "source": [
    "# 2.Unsupervised machine learning"
   ]
  },
  {
   "cell_type": "markdown",
   "id": "c83cac1e",
   "metadata": {},
   "source": [
    "Unsupervised machine learning is a type of machine learning in which an algorithm is trained on an unlabeled dataset, meaning that there are no predetermined output values for each input. Instead, the algorithm must discover patterns and relationships in the data on its own.\n",
    "\n",
    "Unsupervised machine learning is a type of machine learning that involves analyzing data without prior knowledge of what the outcomes should be.\n",
    "\n",
    "example:\n",
    "\n",
    "1.Clustering: Clustering is a type of unsupervised learning that involves grouping data points that are similar to each other. For example, clustering can be used to group customers based on their purchasing patterns, or to group news articles based on their topics."
   ]
  },
  {
   "cell_type": "markdown",
   "id": "fd9797ab",
   "metadata": {},
   "source": [
    "# 3.Semi Supervised machine learning"
   ]
  },
  {
   "cell_type": "markdown",
   "id": "956df531",
   "metadata": {},
   "source": [
    "Semi-supervised learning is a type of machine learning that combines both labeled and unlabeled data to improve the accuracy of a model. In this approach, a small amount of labeled data is used to train a model, and then the model is further trained on a larger amount of unlabeled data to improve its performance."
   ]
  },
  {
   "cell_type": "markdown",
   "id": "edafd91f",
   "metadata": {},
   "source": [
    "# 4.Reinforcement machine learning"
   ]
  },
  {
   "cell_type": "markdown",
   "id": "2322c9a1",
   "metadata": {},
   "source": [
    "Reinforcement learning is a type of machine learning that focuses on decision-making through trial and error. It is based on the concept of an agent interacting with an environment to maximize a reward signal. The agent learns to take actions that lead to the highest possible reward, based on the feedback it receives from the environment.\n",
    "\n",
    "Here are some examples of reinforcement learning:\n",
    "\n",
    "Game playing: Reinforcement learning has been successfully applied to playing games such as chess, Go, and video games. In these cases, the agent learns by playing against itself or against other players, and receives a reward signal based on winning or losing the game. The agent learns to take actions that lead to a higher probability of winning the game."
   ]
  },
  {
   "cell_type": "markdown",
   "id": "c40bc995",
   "metadata": {},
   "source": [
    "# Dataset"
   ]
  },
  {
   "cell_type": "markdown",
   "id": "c92df30f",
   "metadata": {},
   "source": [
    "A dataset is a collection of data that is organized and presented in a structured format for the purpose of analysis, processing, or understanding.\n",
    "\n",
    "dataset can be split into three sub dataset:\n",
    "1.Training(train) dataset\n",
    "2.validation dataset\n",
    "3.test dataset"
   ]
  },
  {
   "cell_type": "markdown",
   "id": "380193e7",
   "metadata": {},
   "source": [
    "In machine learning, it is common to split a dataset into three distinct sets: a training set, a validation set, and a test set. This is done in order to evaluate(to judge/estimate) the performance of a machine learning model and ensure that it can generalize(The term \"generalize\" generally means to apply a principle, concept, or idea ) well to new data. Here are some examples of how these sets might be used in real-world scenarios:\n",
    "\n",
    "Training set: The training set is the largest subset of the dataset, typically comprising around 70-80% of the data. This set is used to train/teach the machine learning model, allowing it to learn patterns and relationships in the data. For example, in a medical diagnosis system, the training set might be a collection of patient data that includes symptoms, medical history, and test results. The machine learning model would be trained on this data to recognize patterns and make predictions about future patients.\n",
    "\n",
    "Validation set: The validation set is used to evaluate the performance of the machine learning model during the training process. It is typically comprised of around 10-15% of the dataset. During training, the model is evaluated on the validation set to ensure that it is not overfitting to the training data. For example, in an image recognition system, the validation set might be a set of images that are not used in the training set. The machine learning model would be evaluated on these images during training to ensure that it is generalizing well and not just memorizing the training data.\n",
    "\n",
    "Test set: The test set is used to evaluate the final performance of the machine learning model. It is typically comprised of around 10-15% of the dataset. Once the model has been trained and evaluated on the validation set, it is evaluated on the test set to see how well it performs on new, unseen data."
   ]
  },
  {
   "cell_type": "markdown",
   "id": "12851fbc",
   "metadata": {},
   "source": [
    "# NOTE"
   ]
  },
  {
   "cell_type": "markdown",
   "id": "50fc1e09",
   "metadata": {},
   "source": [
    "Training dataset -------->>> bole to wah dataset jisse machine learning model ko train kiya jata hai(mtlb it allow to learn                                  patterns and relationship in this data )\n",
    "\n",
    "Validate dataset--------->>> (validate ka mtlb hi hota hai to confirm accuracy and grip of something) so jab machine learning                                 model ko train kr lete hai by providing training dataset tab hme check krna hota hai ki ess model \n",
    "                              ne jo kuchh bhi seekha hai jaise ki patterns and relationship nikalna in a data to inko kitni                                   accuracy ke saath apply kr paaa rha hai for unseeen/new data kahi aisa to nhi ki model kewl chizo                               ko memorise kr rha hai.\n",
    "                              \n",
    "                              example: human brain targeting a iit exam\n",
    "                              \n",
    "                              1. so sbse phle hm dher saari books se theory and related question padhte hai aur solve krte                                        hai(mtlb overall hm apne brain ko enn thoery and question ke liye train kr rhe hai to learn                                      pattern and relationship)\n",
    "                              \n",
    "                              2. ab hme koi assignment/test solve krte hai yah janne ke liye kitni accuracy ke saath hm new                                      problem  ko solve kr paa rhe hai ya phir jo padha just usko memorise krliya hai.\n",
    "                              \n",
    "                              3. accuracy janne ke baad ab hm final exam  ke liye aage padhte hai to test our brain finally\n",
    "                              \n",
    "Test dataset ---------->>> ess dataset finally machine learning model ko test krte hai ki ess model ko successfully train krliya                            hai ya nhi ki yah kisi bhi dataset me pattern and relationship nikal paayega ya phir isne kewl                                  training dataset ko memorise krliya hai\n",
    "                             \n",
    "                              "
   ]
  },
  {
   "cell_type": "markdown",
   "id": "b5926900",
   "metadata": {},
   "source": [
    "# Variance, Bias , Overfitting and underfitting"
   ]
  },
  {
   "cell_type": "markdown",
   "id": "16c93085",
   "metadata": {},
   "source": [
    "Overfitting and underfitting are two common problems that arise in machine learning models when they fail to generalize well to new data.\n",
    "\n",
    "overfitting: \n",
    "\n",
    "let hmne model ko 95% accuracy ke sath train krliya by/for training dataset but jab unseen/new data ko generalize krne ki baari aayi to yah 95% accuracy ke sath perform nhi kr paaya accuracy descrease ho gayi mtlb ess model ne training dataset ko rattt liya hai issi  issi ko bolte hai overfitting\n",
    "\n",
    "\n",
    "model trained accuracy ----->>>> 95%(mtlb training dataset me model acche se perform kr rha tha aur lag rha tha ki model ne                                          acches se patterns and relationship ko nikalna sikh gya hai in a dataset)\n",
    "\n",
    "model test accuracy ------->>>> 60%(but new dataset ke liye yah model fail kr gya to generalise it matlb yah model yha pr achhe                                     se perform nhi kar paaya to figure out patterns and relationship mtlb model ne training                                         dataset ko rtta hai kewl pattern and relationship in any data nikalna nhi sikh paaya hai)\n",
    "\n",
    "mtlb trained accuracy high ho like(95%) uske baad bhi test accuracy decrease ho jaati isi ko overfitting bolte hai\n",
    "\n",
    "\n",
    "\n",
    "Underfitting:\n",
    "\n",
    "model trained accuracy ------>>>> 50%\n",
    "model test accuracy -------->>>> 45%\n",
    "\n",
    "mtlb phle se hi model low accuracy ke sath trained hua tha aur test accuracy bhi decrease ho gyi isi ko bolte hai underfiting\n",
    "\n",
    "\n",
    "Generalised model:\n",
    "\n",
    "model trained accuracy ----->>>>bhi high ho aur \n",
    "model test accuracy -------->>>> bhi high ho tab aise model ko generalised data khte hai aur hmra yhi aim hona chahiye to make a generalised model\n",
    "\n",
    "\n",
    "Varience and Bias:\n",
    "\n",
    "Bias and variance are two important concepts in machine learning that are used to evaluate the performance of a model.\n",
    "\n",
    "(low bias     )\n",
    "(high varience) ----->>> overfitting\n",
    "\n",
    "(high bias)\n",
    "(high varience)--------->>>> underfitting\n",
    "\n",
    "(low bias)\n",
    "(low variance)------>>>> generalized model"
   ]
  },
  {
   "cell_type": "markdown",
   "id": "c9378e3c",
   "metadata": {},
   "source": [
    "# NOTE"
   ]
  },
  {
   "cell_type": "markdown",
   "id": "0e4c1a4c",
   "metadata": {},
   "source": [
    "just see brain as a model and books as a dataset we train our brain for a books(by reading to this book/working on a dataset(like theory and problems taken from this book) then we solve exercise/assignment and then we give test/exam to test it ki brain new probles ko solve kr pa rha hai ya nhi ya phir kewl books ko ratt liya hai"
   ]
  }
 ],
 "metadata": {
  "kernelspec": {
   "display_name": "Python 3 (ipykernel)",
   "language": "python",
   "name": "python3"
  },
  "language_info": {
   "codemirror_mode": {
    "name": "ipython",
    "version": 3
   },
   "file_extension": ".py",
   "mimetype": "text/x-python",
   "name": "python",
   "nbconvert_exporter": "python",
   "pygments_lexer": "ipython3",
   "version": "3.9.13"
  }
 },
 "nbformat": 4,
 "nbformat_minor": 5
}
